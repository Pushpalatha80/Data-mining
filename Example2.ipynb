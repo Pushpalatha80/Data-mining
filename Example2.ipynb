{
 "cells": [
  {
   "cell_type": "code",
   "execution_count": 1,
   "metadata": {},
   "outputs": [],
   "source": [
    "import pandas as pd\n",
    "import numpy as np\n",
    "import seaborn as sns\n",
    "from sklearn.model_selection import train_test_split\n",
    "import matplotlib.pyplot as plt\n",
    "import matplotlib.colors as colors\n",
    "from mpl_toolkits.axes_grid1 import make_axes_locatable\n",
    "from sklearn.datasets import load_breast_cancer\n",
    "from sklearn.neighbors import KNeighborsClassifier     #KNN\n",
    "from sklearn.linear_model import LogisticRegression    #Logistic Regression\n",
    "from sklearn.tree import DecisionTreeClassifier        #Decision Tree\n",
    "from sklearn.ensemble import RandomForestClassifier    #Random Forest\n",
    "from sklearn.neural_network import MLPClassifier       #Neural Network\n",
    "from sklearn.svm import SVC                            #SVM\n",
    "from sklearn.model_selection import train_test_split\n",
    "from sklearn.preprocessing import StandardScaler\n",
    "from sklearn.tree import export_graphviz\n",
    "import matplotlib.pylab as plt\n",
    "from sklearn.naive_bayes import GaussianNB\n",
    "from sklearn.model_selection import GridSearchCV\n",
    "from sklearn.metrics import classification_report, confusion_matrix\n",
    "# this program is aming at evaluating the result with correlation coefficient\n",
    "import pandas as pd\n",
    "import numpy as np\n",
    "import matplotlib as mpl\n",
    "import matplotlib.pyplot as plt\n",
    "from sklearn.metrics import mean_absolute_error\n",
    "from sklearn.linear_model import LogisticRegression\n",
    "from sklearn.neighbors import KNeighborsClassifier\n",
    "from sklearn.discriminant_analysis import LinearDiscriminantAnalysis\n",
    "from sklearn.model_selection import train_test_split"
   ]
  },
  {
   "cell_type": "markdown",
   "metadata": {},
   "source": [
    "# Functions"
   ]
  },
  {
   "cell_type": "code",
   "execution_count": 2,
   "metadata": {},
   "outputs": [],
   "source": [
    "def run_mods(name,X_train,y_train,X_test,y_test,classifiers):\n",
    "    result=pd.DataFrame(columns=[\"Case\",\"Algorithm\",\"Accuracy\",\"Cohen_Kappa\",\"ROC_AUC_Score\"])\n",
    "    result.Algorithm=[\"KNN\",\"Decision Tree\",\"Logistic Regression\"]\n",
    "    result.Case=name\n",
    "    for i,c in enumerate(classifiers):\n",
    "        c.fit(X_train,y_train)\n",
    "        y_pred=c.predict(X_test)\n",
    "        y_pred_proba=c.predict_proba(X_test)\n",
    "        result.Accuracy[i]=round(accuracy_score(y_test,y_pred),3)\n",
    "        result.Cohen_Kappa[i]=round(cohen_kappa_score(y_test,y_pred),3)\n",
    "        result.ROC_AUC_Score[i]=round(roc_auc_score(y_test, y_pred_proba, multi_class='ovo', average='weighted'),3)     \n",
    "    global result_table\n",
    "    result_table=result_table.append(result)\n",
    "    \n",
    "def roc_plot(X_test,y_test,classifier,title):\n",
    "    y_pred_proba=classifier.predict_proba(X_test)\n",
    "\n",
    "    fpr = {}\n",
    "    tpr = {}\n",
    "    thresh ={}\n",
    "\n",
    "    CLASSES=y_test.unique()\n",
    "    CLASSES=CLASSES.tolist()\n",
    "    n_class = len(CLASSES)\n",
    "\n",
    "    le = LabelEncoder()\n",
    "    y_test_encoded=le.fit_transform(y_test)\n",
    "\n",
    "\n",
    "    for i in range(n_class):    \n",
    "        fpr[i], tpr[i], _ = roc_curve(y_test_encoded, y_pred_proba[:,i], pos_label=i)\n",
    "\n",
    "    code=pd.DataFrame()\n",
    "    code['y_original']=y_test\n",
    "    code['y_coded']=y_test_encoded\n",
    "    code=code.groupby('y_original').mean()\n",
    "    CLASSES=list(code.index)\n",
    "    \n",
    "    # plotting\n",
    "    color=iter(plt.cm.rainbow(np.linspace(0,1,n_class)))\n",
    "\n",
    "    for i in range(n_class):       \n",
    "        ax.plot(fpr[i], tpr[i], linestyle='--',c=next(color),label=CLASSES[i])\n",
    "    ax.title.set_text(title)\n",
    "    ax.set(xlabel='False Positive Rate', ylabel='True Positive rate')\n",
    "    ax.legend(loc='best')\n",
    "    \n",
    "def CR_plot(X_test,y_test,classifier,ax,ct):\n",
    "        \n",
    "    cr=classification_report(y_test,classifier.predict(X_test))\n",
    "    cr=str.split(cr)\n",
    "    headings=cr[0:4]\n",
    "    cr=cr[4:4+5*len(y.unique())]\n",
    "    \n",
    "    matrix=np.array(cr).reshape(len(y.unique()),5)\n",
    "    \n",
    "    df=pd.DataFrame(matrix[:,1:], index=matrix[:,0], columns=headings)\n",
    "    df=df.astype('float64',copy=False)\n",
    "    df.support=df.support.astype(int)\n",
    "      \n",
    "    g=sns.heatmap(df, annot=df, vmin=0, vmax=1, ax=ax)\n",
    "    for t in g.texts:\n",
    "        if float(t.get_text()) > 1:     \n",
    "                t.set_text(int(float(t.get_text())))\n",
    "        else:\n",
    "                t.set_text(round(float(t.get_text()),2))\n",
    "        g.title.set_text(ct + \" Classification Report\")\n",
    "\n",
    "\n",
    "def class_balance(X,y):\n",
    "    \n",
    "    classes=y.value_counts().index\n",
    "    max_class=classes[0]\n",
    "    classes=classes[1:]\n",
    "    max_samples=y.value_counts().max()\n",
    "    \n",
    "    temp1=pd.concat([X,y],axis=1)\n",
    "    \n",
    "    resampled=pd.DataFrame(temp1[temp1[y.name]==max_class])\n",
    "    \n",
    "    \n",
    "    for i in range(classes.size):\n",
    "        temp=resample(temp1[temp1[y.name]==classes[i]],\n",
    "                   replace=True,\n",
    "                   n_samples=max_samples,\n",
    "                   random_state=123)\n",
    "        resampled=pd.concat([resampled,temp])\n",
    "    \n",
    "    resampled[y.name].value_counts()\n",
    "    resampled = resampled.sample(frac=1).reset_index(drop=True)\n",
    "    \n",
    "    X_b=resampled.drop([y.name],axis=1)\n",
    "    y_b=resampled[y.name]\n",
    "    return(X_b,y_b)\n",
    "\n",
    "def MAE(actual,predicted):\n",
    "    return(np.mean(np.absolute(actual-predicted)))"
   ]
  },
  {
   "cell_type": "code",
   "execution_count": 3,
   "metadata": {},
   "outputs": [
    {
     "data": {
      "text/html": [
       "<div>\n",
       "<style scoped>\n",
       "    .dataframe tbody tr th:only-of-type {\n",
       "        vertical-align: middle;\n",
       "    }\n",
       "\n",
       "    .dataframe tbody tr th {\n",
       "        vertical-align: top;\n",
       "    }\n",
       "\n",
       "    .dataframe thead th {\n",
       "        text-align: right;\n",
       "    }\n",
       "</style>\n",
       "<table border=\"1\" class=\"dataframe\">\n",
       "  <thead>\n",
       "    <tr style=\"text-align: right;\">\n",
       "      <th></th>\n",
       "      <th>samples</th>\n",
       "      <th>type</th>\n",
       "      <th>1007_s_at</th>\n",
       "      <th>1053_at</th>\n",
       "      <th>117_at</th>\n",
       "      <th>121_at</th>\n",
       "      <th>1255_g_at</th>\n",
       "      <th>1294_at</th>\n",
       "      <th>1316_at</th>\n",
       "      <th>1320_at</th>\n",
       "      <th>...</th>\n",
       "      <th>AFFX-r2-Ec-bioD-3_at</th>\n",
       "      <th>AFFX-r2-Ec-bioD-5_at</th>\n",
       "      <th>AFFX-r2-P1-cre-3_at</th>\n",
       "      <th>AFFX-r2-P1-cre-5_at</th>\n",
       "      <th>AFFX-ThrX-3_at</th>\n",
       "      <th>AFFX-ThrX-5_at</th>\n",
       "      <th>AFFX-ThrX-M_at</th>\n",
       "      <th>AFFX-TrpnX-3_at</th>\n",
       "      <th>AFFX-TrpnX-5_at</th>\n",
       "      <th>AFFX-TrpnX-M_at</th>\n",
       "    </tr>\n",
       "  </thead>\n",
       "  <tbody>\n",
       "    <tr>\n",
       "      <th>0</th>\n",
       "      <td>834</td>\n",
       "      <td>ependymoma</td>\n",
       "      <td>12.498150</td>\n",
       "      <td>7.604868</td>\n",
       "      <td>6.880934</td>\n",
       "      <td>9.027128</td>\n",
       "      <td>4.176175</td>\n",
       "      <td>7.224920</td>\n",
       "      <td>6.085942</td>\n",
       "      <td>6.835999</td>\n",
       "      <td>...</td>\n",
       "      <td>9.979005</td>\n",
       "      <td>9.926470</td>\n",
       "      <td>12.719785</td>\n",
       "      <td>12.777792</td>\n",
       "      <td>5.403657</td>\n",
       "      <td>4.870548</td>\n",
       "      <td>4.047380</td>\n",
       "      <td>3.721936</td>\n",
       "      <td>4.516434</td>\n",
       "      <td>4.749940</td>\n",
       "    </tr>\n",
       "    <tr>\n",
       "      <th>1</th>\n",
       "      <td>835</td>\n",
       "      <td>ependymoma</td>\n",
       "      <td>13.067436</td>\n",
       "      <td>7.998090</td>\n",
       "      <td>7.209076</td>\n",
       "      <td>9.723322</td>\n",
       "      <td>4.826126</td>\n",
       "      <td>7.539381</td>\n",
       "      <td>6.250962</td>\n",
       "      <td>8.012549</td>\n",
       "      <td>...</td>\n",
       "      <td>11.924749</td>\n",
       "      <td>11.215930</td>\n",
       "      <td>13.605662</td>\n",
       "      <td>13.401342</td>\n",
       "      <td>5.224555</td>\n",
       "      <td>4.895315</td>\n",
       "      <td>3.786437</td>\n",
       "      <td>3.564481</td>\n",
       "      <td>4.430891</td>\n",
       "      <td>4.491416</td>\n",
       "    </tr>\n",
       "    <tr>\n",
       "      <th>2</th>\n",
       "      <td>836</td>\n",
       "      <td>ependymoma</td>\n",
       "      <td>13.068179</td>\n",
       "      <td>8.573674</td>\n",
       "      <td>8.647684</td>\n",
       "      <td>9.613002</td>\n",
       "      <td>4.396581</td>\n",
       "      <td>7.813101</td>\n",
       "      <td>6.007746</td>\n",
       "      <td>7.178156</td>\n",
       "      <td>...</td>\n",
       "      <td>12.154405</td>\n",
       "      <td>11.532460</td>\n",
       "      <td>13.764593</td>\n",
       "      <td>13.477800</td>\n",
       "      <td>5.303565</td>\n",
       "      <td>5.052184</td>\n",
       "      <td>4.005343</td>\n",
       "      <td>3.595382</td>\n",
       "      <td>4.563494</td>\n",
       "      <td>4.668827</td>\n",
       "    </tr>\n",
       "    <tr>\n",
       "      <th>3</th>\n",
       "      <td>837</td>\n",
       "      <td>ependymoma</td>\n",
       "      <td>12.456040</td>\n",
       "      <td>9.098977</td>\n",
       "      <td>6.628784</td>\n",
       "      <td>8.517677</td>\n",
       "      <td>4.154847</td>\n",
       "      <td>8.361843</td>\n",
       "      <td>6.596064</td>\n",
       "      <td>6.347285</td>\n",
       "      <td>...</td>\n",
       "      <td>11.969072</td>\n",
       "      <td>11.288801</td>\n",
       "      <td>13.600828</td>\n",
       "      <td>13.379029</td>\n",
       "      <td>4.953429</td>\n",
       "      <td>4.708371</td>\n",
       "      <td>3.892318</td>\n",
       "      <td>3.759429</td>\n",
       "      <td>4.748381</td>\n",
       "      <td>4.521275</td>\n",
       "    </tr>\n",
       "    <tr>\n",
       "      <th>4</th>\n",
       "      <td>838</td>\n",
       "      <td>ependymoma</td>\n",
       "      <td>12.699958</td>\n",
       "      <td>8.800721</td>\n",
       "      <td>11.556188</td>\n",
       "      <td>9.166309</td>\n",
       "      <td>4.165891</td>\n",
       "      <td>7.923826</td>\n",
       "      <td>6.212754</td>\n",
       "      <td>6.866387</td>\n",
       "      <td>...</td>\n",
       "      <td>11.411701</td>\n",
       "      <td>11.169317</td>\n",
       "      <td>13.751442</td>\n",
       "      <td>13.803646</td>\n",
       "      <td>4.892677</td>\n",
       "      <td>4.773806</td>\n",
       "      <td>3.796856</td>\n",
       "      <td>3.577544</td>\n",
       "      <td>4.504385</td>\n",
       "      <td>4.541450</td>\n",
       "    </tr>\n",
       "    <tr>\n",
       "      <th>...</th>\n",
       "      <td>...</td>\n",
       "      <td>...</td>\n",
       "      <td>...</td>\n",
       "      <td>...</td>\n",
       "      <td>...</td>\n",
       "      <td>...</td>\n",
       "      <td>...</td>\n",
       "      <td>...</td>\n",
       "      <td>...</td>\n",
       "      <td>...</td>\n",
       "      <td>...</td>\n",
       "      <td>...</td>\n",
       "      <td>...</td>\n",
       "      <td>...</td>\n",
       "      <td>...</td>\n",
       "      <td>...</td>\n",
       "      <td>...</td>\n",
       "      <td>...</td>\n",
       "      <td>...</td>\n",
       "      <td>...</td>\n",
       "      <td>...</td>\n",
       "    </tr>\n",
       "    <tr>\n",
       "      <th>125</th>\n",
       "      <td>959</td>\n",
       "      <td>pilocytic_astrocytoma</td>\n",
       "      <td>12.658228</td>\n",
       "      <td>8.843270</td>\n",
       "      <td>7.672655</td>\n",
       "      <td>9.125912</td>\n",
       "      <td>5.495477</td>\n",
       "      <td>8.603892</td>\n",
       "      <td>7.747514</td>\n",
       "      <td>5.828978</td>\n",
       "      <td>...</td>\n",
       "      <td>13.170441</td>\n",
       "      <td>12.676080</td>\n",
       "      <td>14.124837</td>\n",
       "      <td>13.996436</td>\n",
       "      <td>4.913579</td>\n",
       "      <td>4.399176</td>\n",
       "      <td>3.878855</td>\n",
       "      <td>3.680103</td>\n",
       "      <td>4.726784</td>\n",
       "      <td>4.564637</td>\n",
       "    </tr>\n",
       "    <tr>\n",
       "      <th>126</th>\n",
       "      <td>960</td>\n",
       "      <td>pilocytic_astrocytoma</td>\n",
       "      <td>12.812823</td>\n",
       "      <td>8.510550</td>\n",
       "      <td>8.729699</td>\n",
       "      <td>9.104402</td>\n",
       "      <td>3.967228</td>\n",
       "      <td>7.719089</td>\n",
       "      <td>7.092496</td>\n",
       "      <td>6.504812</td>\n",
       "      <td>...</td>\n",
       "      <td>13.040267</td>\n",
       "      <td>12.403316</td>\n",
       "      <td>13.978009</td>\n",
       "      <td>13.812916</td>\n",
       "      <td>5.189600</td>\n",
       "      <td>4.912618</td>\n",
       "      <td>3.764800</td>\n",
       "      <td>3.664920</td>\n",
       "      <td>4.628355</td>\n",
       "      <td>4.761351</td>\n",
       "    </tr>\n",
       "    <tr>\n",
       "      <th>127</th>\n",
       "      <td>961</td>\n",
       "      <td>pilocytic_astrocytoma</td>\n",
       "      <td>12.706991</td>\n",
       "      <td>8.795721</td>\n",
       "      <td>7.772359</td>\n",
       "      <td>8.327273</td>\n",
       "      <td>6.329383</td>\n",
       "      <td>8.550471</td>\n",
       "      <td>6.613332</td>\n",
       "      <td>6.308945</td>\n",
       "      <td>...</td>\n",
       "      <td>12.825383</td>\n",
       "      <td>12.439265</td>\n",
       "      <td>14.328373</td>\n",
       "      <td>14.008693</td>\n",
       "      <td>4.931460</td>\n",
       "      <td>4.712895</td>\n",
       "      <td>3.913637</td>\n",
       "      <td>3.700964</td>\n",
       "      <td>4.764693</td>\n",
       "      <td>4.834952</td>\n",
       "    </tr>\n",
       "    <tr>\n",
       "      <th>128</th>\n",
       "      <td>962</td>\n",
       "      <td>pilocytic_astrocytoma</td>\n",
       "      <td>12.684593</td>\n",
       "      <td>8.293938</td>\n",
       "      <td>7.228186</td>\n",
       "      <td>8.494428</td>\n",
       "      <td>6.049414</td>\n",
       "      <td>8.214729</td>\n",
       "      <td>7.287758</td>\n",
       "      <td>5.732710</td>\n",
       "      <td>...</td>\n",
       "      <td>13.116581</td>\n",
       "      <td>12.657967</td>\n",
       "      <td>14.390346</td>\n",
       "      <td>14.194904</td>\n",
       "      <td>4.871092</td>\n",
       "      <td>4.739400</td>\n",
       "      <td>3.782980</td>\n",
       "      <td>3.920363</td>\n",
       "      <td>4.665584</td>\n",
       "      <td>4.613326</td>\n",
       "    </tr>\n",
       "    <tr>\n",
       "      <th>129</th>\n",
       "      <td>963</td>\n",
       "      <td>pilocytic_astrocytoma</td>\n",
       "      <td>12.397722</td>\n",
       "      <td>8.843524</td>\n",
       "      <td>8.825100</td>\n",
       "      <td>8.551541</td>\n",
       "      <td>5.002072</td>\n",
       "      <td>8.547894</td>\n",
       "      <td>6.920827</td>\n",
       "      <td>5.738159</td>\n",
       "      <td>...</td>\n",
       "      <td>13.117180</td>\n",
       "      <td>12.699932</td>\n",
       "      <td>14.286779</td>\n",
       "      <td>14.088950</td>\n",
       "      <td>4.932377</td>\n",
       "      <td>4.700205</td>\n",
       "      <td>3.952850</td>\n",
       "      <td>3.678112</td>\n",
       "      <td>5.018501</td>\n",
       "      <td>4.704779</td>\n",
       "    </tr>\n",
       "  </tbody>\n",
       "</table>\n",
       "<p>130 rows × 54677 columns</p>\n",
       "</div>"
      ],
      "text/plain": [
       "     samples                   type  1007_s_at   1053_at     117_at    121_at  \\\n",
       "0        834             ependymoma  12.498150  7.604868   6.880934  9.027128   \n",
       "1        835             ependymoma  13.067436  7.998090   7.209076  9.723322   \n",
       "2        836             ependymoma  13.068179  8.573674   8.647684  9.613002   \n",
       "3        837             ependymoma  12.456040  9.098977   6.628784  8.517677   \n",
       "4        838             ependymoma  12.699958  8.800721  11.556188  9.166309   \n",
       "..       ...                    ...        ...       ...        ...       ...   \n",
       "125      959  pilocytic_astrocytoma  12.658228  8.843270   7.672655  9.125912   \n",
       "126      960  pilocytic_astrocytoma  12.812823  8.510550   8.729699  9.104402   \n",
       "127      961  pilocytic_astrocytoma  12.706991  8.795721   7.772359  8.327273   \n",
       "128      962  pilocytic_astrocytoma  12.684593  8.293938   7.228186  8.494428   \n",
       "129      963  pilocytic_astrocytoma  12.397722  8.843524   8.825100  8.551541   \n",
       "\n",
       "     1255_g_at   1294_at   1316_at   1320_at  ...  AFFX-r2-Ec-bioD-3_at  \\\n",
       "0     4.176175  7.224920  6.085942  6.835999  ...              9.979005   \n",
       "1     4.826126  7.539381  6.250962  8.012549  ...             11.924749   \n",
       "2     4.396581  7.813101  6.007746  7.178156  ...             12.154405   \n",
       "3     4.154847  8.361843  6.596064  6.347285  ...             11.969072   \n",
       "4     4.165891  7.923826  6.212754  6.866387  ...             11.411701   \n",
       "..         ...       ...       ...       ...  ...                   ...   \n",
       "125   5.495477  8.603892  7.747514  5.828978  ...             13.170441   \n",
       "126   3.967228  7.719089  7.092496  6.504812  ...             13.040267   \n",
       "127   6.329383  8.550471  6.613332  6.308945  ...             12.825383   \n",
       "128   6.049414  8.214729  7.287758  5.732710  ...             13.116581   \n",
       "129   5.002072  8.547894  6.920827  5.738159  ...             13.117180   \n",
       "\n",
       "     AFFX-r2-Ec-bioD-5_at  AFFX-r2-P1-cre-3_at  AFFX-r2-P1-cre-5_at  \\\n",
       "0                9.926470            12.719785            12.777792   \n",
       "1               11.215930            13.605662            13.401342   \n",
       "2               11.532460            13.764593            13.477800   \n",
       "3               11.288801            13.600828            13.379029   \n",
       "4               11.169317            13.751442            13.803646   \n",
       "..                    ...                  ...                  ...   \n",
       "125             12.676080            14.124837            13.996436   \n",
       "126             12.403316            13.978009            13.812916   \n",
       "127             12.439265            14.328373            14.008693   \n",
       "128             12.657967            14.390346            14.194904   \n",
       "129             12.699932            14.286779            14.088950   \n",
       "\n",
       "     AFFX-ThrX-3_at  AFFX-ThrX-5_at  AFFX-ThrX-M_at  AFFX-TrpnX-3_at  \\\n",
       "0          5.403657        4.870548        4.047380         3.721936   \n",
       "1          5.224555        4.895315        3.786437         3.564481   \n",
       "2          5.303565        5.052184        4.005343         3.595382   \n",
       "3          4.953429        4.708371        3.892318         3.759429   \n",
       "4          4.892677        4.773806        3.796856         3.577544   \n",
       "..              ...             ...             ...              ...   \n",
       "125        4.913579        4.399176        3.878855         3.680103   \n",
       "126        5.189600        4.912618        3.764800         3.664920   \n",
       "127        4.931460        4.712895        3.913637         3.700964   \n",
       "128        4.871092        4.739400        3.782980         3.920363   \n",
       "129        4.932377        4.700205        3.952850         3.678112   \n",
       "\n",
       "     AFFX-TrpnX-5_at  AFFX-TrpnX-M_at  \n",
       "0           4.516434         4.749940  \n",
       "1           4.430891         4.491416  \n",
       "2           4.563494         4.668827  \n",
       "3           4.748381         4.521275  \n",
       "4           4.504385         4.541450  \n",
       "..               ...              ...  \n",
       "125         4.726784         4.564637  \n",
       "126         4.628355         4.761351  \n",
       "127         4.764693         4.834952  \n",
       "128         4.665584         4.613326  \n",
       "129         5.018501         4.704779  \n",
       "\n",
       "[130 rows x 54677 columns]"
      ]
     },
     "execution_count": 3,
     "metadata": {},
     "output_type": "execute_result"
    }
   ],
   "source": [
    "\n",
    "data=pd.read_csv('Brain_GSE50161.csv')\n",
    "data"
   ]
  },
  {
   "cell_type": "code",
   "execution_count": 4,
   "metadata": {},
   "outputs": [
    {
     "name": "stdout",
     "output_type": "stream",
     "text": [
      "ependymoma               46\n",
      "glioblastoma             34\n",
      "medulloblastoma          22\n",
      "pilocytic_astrocytoma    15\n",
      "normal                   13\n",
      "Name: type, dtype: int64\n"
     ]
    }
   ],
   "source": [
    "print(data['type'].value_counts())"
   ]
  },
  {
   "cell_type": "markdown",
   "metadata": {},
   "source": [
    "How to try imbalance data\n",
    "\n",
    "1. Up-sample Minority Class\n",
    "Up-sampling is the process of randomly duplicating observations from the minority class in order to reinforce its signal.\n",
    "\n",
    "There are several heuristics for doing so, but the most common way is to simply resample with replacement.\n",
    "\n",
    "First, we'll import the resampling module from Scikit-Learn:\n",
    "\n",
    "Next, we'll create a new DataFrame with an up-sampled minority class. Here are the steps:\n",
    "\n",
    "First, we'll separate observations from each class into different DataFrames.\n",
    "Next, we'll resample the minority class with replacement, setting the number of samples to match that of the majority class.\n",
    "Finally, we'll combine the up-sampled minority class DataFrame with the original majority class DataFrame."
   ]
  },
  {
   "cell_type": "markdown",
   "metadata": {},
   "source": [
    "Here the ependymoma 46,glioblastoma 34 ,medulloblastoma 22 ,pilocytic_astrocytoma 15 and normai is 13."
   ]
  },
  {
   "cell_type": "markdown",
   "metadata": {},
   "source": [
    "# Imbalace"
   ]
  },
  {
   "cell_type": "code",
   "execution_count": 5,
   "metadata": {},
   "outputs": [
    {
     "data": {
      "text/plain": [
       "medulloblastoma          46\n",
       "glioblastoma             46\n",
       "pilocytic_astrocytoma    46\n",
       "normal                   46\n",
       "ependymoma               46\n",
       "Name: type, dtype: int64"
      ]
     },
     "execution_count": 5,
     "metadata": {},
     "output_type": "execute_result"
    }
   ],
   "source": [
    "from sklearn.utils import resample\n",
    "#Upsampling all the minorities classes to the equal\n",
    "#value of the majority class i.e. sample ='386'\n",
    "\n",
    "data_class1 = resample(data[data['type']=='ependymoma'],\n",
    "               replace=True,\n",
    "               n_samples=46,\n",
    "               random_state=35)\n",
    "\n",
    "data_class2 = resample(data[data['type']=='glioblastoma'],\n",
    "               replace=True,\n",
    "               n_samples=46,\n",
    "               random_state=34)\n",
    "data_class3 = resample(data[data['type']=='medulloblastoma'],\n",
    "               replace=True,\n",
    "               n_samples=46,\n",
    "               random_state=35)\n",
    "data_class4 = resample(data[data['type']=='pilocytic_astrocytoma'],\n",
    "               replace=True,\n",
    "               n_samples=46,\n",
    "               random_state=35)\n",
    "data_class5 = resample(data[data['type']=='normal'],\n",
    "               replace=True,\n",
    "               n_samples=46,\n",
    "               random_state=13)\n",
    "\n",
    "data_upsampled = pd.concat([data_class1, data_class2,data_class3,data_class4,data_class5])\n",
    "\n",
    "\n",
    "# Display new class counts\n",
    "\n",
    "data_upsampled['type'].value_counts()"
   ]
  },
  {
   "cell_type": "code",
   "execution_count": 6,
   "metadata": {},
   "outputs": [],
   "source": [
    "## some technique to solve the type imbalance problem present in \n",
    "##the database, and evaluate the performance\n",
    "features = data.columns[:54677] \n",
    "X = data_upsampled.drop(['type'],axis=1)\n",
    "labels = data.columns[1]\n",
    "y = data_upsampled['type'].values"
   ]
  },
  {
   "cell_type": "markdown",
   "metadata": {},
   "source": [
    "# Apply Decision tree algorithem(balance database)"
   ]
  },
  {
   "cell_type": "code",
   "execution_count": 7,
   "metadata": {},
   "outputs": [],
   "source": [
    "## balanced the unbalanced data to raise the accuracy rate.\n",
    "X_train, X_test, y_train, y_test = train_test_split(X, y, random_state=42)"
   ]
  },
  {
   "cell_type": "code",
   "execution_count": 8,
   "metadata": {},
   "outputs": [
    {
     "data": {
      "text/plain": [
       "DecisionTreeClassifier()"
      ]
     },
     "execution_count": 8,
     "metadata": {},
     "output_type": "execute_result"
    }
   ],
   "source": [
    "##Decision Tree\n",
    "tree = DecisionTreeClassifier() # decision tree algorithm\n",
    "tree.fit(X_train, y_train)"
   ]
  },
  {
   "cell_type": "code",
   "execution_count": 9,
   "metadata": {},
   "outputs": [
    {
     "name": "stdout",
     "output_type": "stream",
     "text": [
      "Decision tree has 9 nodes with maximum depth 4.\n",
      "Model Accuracy: 1.0\n"
     ]
    }
   ],
   "source": [
    "print(f'Decision tree has {tree.tree_.node_count} nodes with maximum depth {tree.tree_.max_depth}.') \n",
    "print(f'Model Accuracy: {tree.score(X_train, y_train)}')"
   ]
  },
  {
   "cell_type": "code",
   "execution_count": 10,
   "metadata": {},
   "outputs": [
    {
     "name": "stdout",
     "output_type": "stream",
     "text": [
      "                       precision    recall  f1-score   support\n",
      "\n",
      "           ependymoma       1.00      1.00      1.00         8\n",
      "         glioblastoma       1.00      1.00      1.00         9\n",
      "      medulloblastoma       1.00      0.88      0.94        17\n",
      "               normal       1.00      1.00      1.00        11\n",
      "pilocytic_astrocytoma       0.87      1.00      0.93        13\n",
      "\n",
      "             accuracy                           0.97        58\n",
      "            macro avg       0.97      0.98      0.97        58\n",
      "         weighted avg       0.97      0.97      0.97        58\n",
      "\n"
     ]
    }
   ],
   "source": [
    "y_pred = tree.predict(X_test) \n",
    "print(classification_report(y_test,y_pred))"
   ]
  },
  {
   "cell_type": "markdown",
   "metadata": {},
   "source": [
    "Here, from the visualizing the unseen data of decision tree we see that the accuracy for the given data is 97% perfect which is very high. This prediction is before optimizing the data, now next we will optimize the data and check the result."
   ]
  },
  {
   "cell_type": "markdown",
   "metadata": {},
   "source": [
    "Decision tree(imbalace data)  before optimiation"
   ]
  },
  {
   "cell_type": "code",
   "execution_count": 11,
   "metadata": {},
   "outputs": [
    {
     "name": "stdout",
     "output_type": "stream",
     "text": [
      "(130, 54676)\n",
      "(130,)\n"
     ]
    }
   ],
   "source": [
    "#Separating independant variable and dependent variable(\"Flow Pattern\")\n",
    "X = data.drop(['type'], axis=1)\n",
    "y = data['type']\n",
    "# print(X.head())\n",
    "print(X.shape)\n",
    "# print(y.head())\n",
    "print(y.shape)"
   ]
  },
  {
   "cell_type": "code",
   "execution_count": 12,
   "metadata": {},
   "outputs": [
    {
     "data": {
      "image/png": "[encoded data removed]",
      "text/plain": [
       "<Figure size 432x288 with 1 Axes>"
      ]
     },
     "metadata": {
      "needs_background": "light"
     },
     "output_type": "display_data"
    }
   ],
   "source": [
    "data['type'].value_counts().plot(kind='bar', title='Distribution of Samples by Class');"
   ]
  },
  {
   "cell_type": "code",
   "execution_count": 13,
   "metadata": {},
   "outputs": [],
   "source": [
    "X_train, X_test, y_train, y_test = train_test_split(X, y, random_state=42)\n",
    "scaler = StandardScaler().fit(X_train)\n",
    "X_train_scaled = scaler.transform(X_train)\n",
    "X_test_scaled = scaler.transform(X_test)"
   ]
  },
  {
   "cell_type": "code",
   "execution_count": 14,
   "metadata": {},
   "outputs": [
    {
     "data": {
      "text/plain": [
       "DecisionTreeClassifier()"
      ]
     },
     "execution_count": 14,
     "metadata": {},
     "output_type": "execute_result"
    }
   ],
   "source": [
    "tree = DecisionTreeClassifier() # decision tree algorithm\n",
    "tree.fit(X_train, y_train)"
   ]
  },
  {
   "cell_type": "code",
   "execution_count": 15,
   "metadata": {},
   "outputs": [
    {
     "name": "stdout",
     "output_type": "stream",
     "text": [
      "Decision tree has 9 nodes with maximum depth 4.\n",
      "Model Accuracy: 1.0\n"
     ]
    }
   ],
   "source": [
    "print(f'Decision tree has {tree.tree_.node_count} nodes with maximum depth {tree.tree_.max_depth}.') \n",
    "print(f'Model Accuracy: {tree.score(X_train, y_train)}')"
   ]
  },
  {
   "cell_type": "code",
   "execution_count": 16,
   "metadata": {},
   "outputs": [
    {
     "name": "stdout",
     "output_type": "stream",
     "text": [
      "                       precision    recall  f1-score   support\n",
      "\n",
      "           ependymoma       1.00      0.86      0.92        14\n",
      "         glioblastoma       0.73      1.00      0.84         8\n",
      "      medulloblastoma       1.00      0.86      0.92         7\n",
      "               normal       1.00      1.00      1.00         1\n",
      "pilocytic_astrocytoma       1.00      1.00      1.00         3\n",
      "\n",
      "             accuracy                           0.91        33\n",
      "            macro avg       0.95      0.94      0.94        33\n",
      "         weighted avg       0.93      0.91      0.91        33\n",
      "\n"
     ]
    }
   ],
   "source": [
    "y_pred = tree.predict(X_test) \n",
    "print(classification_report(y_test,y_pred))"
   ]
  },
  {
   "cell_type": "code",
   "execution_count": null,
   "metadata": {},
   "outputs": [],
   "source": []
  },
  {
   "cell_type": "code",
   "execution_count": null,
   "metadata": {},
   "outputs": [],
   "source": []
  },
  {
   "cell_type": "markdown",
   "metadata": {},
   "source": [
    "Decesion tree optimization"
   ]
  },
  {
   "cell_type": "code",
   "execution_count": 17,
   "metadata": {},
   "outputs": [
    {
     "data": {
      "text/plain": [
       "GridSearchCV(cv=5, estimator=DecisionTreeClassifier(), n_jobs=-1,\n",
       "             param_grid={'max_depth': [2, 3, 4, 5],\n",
       "                         'max_leaf_nodes': [5, 9, 15],\n",
       "                         'min_samples_leaf': [2, 20, 50]})"
      ]
     },
     "execution_count": 17,
     "metadata": {},
     "output_type": "execute_result"
    }
   ],
   "source": [
    "param_grid = { 'max_depth': [2, 3, 4, 5], 'min_samples_leaf': [2, 20, 50], \n",
    "               'max_leaf_nodes': [5, 9, 15]}\n",
    "gs_dt = GridSearchCV(DecisionTreeClassifier(), param_grid, cv=5, n_jobs=-1)\n",
    "gs_dt.fit(X_train, y_train)"
   ]
  },
  {
   "cell_type": "code",
   "execution_count": 18,
   "metadata": {},
   "outputs": [
    {
     "name": "stdout",
     "output_type": "stream",
     "text": [
      "The best model is: \n",
      "DecisionTreeClassifier(max_depth=4, max_leaf_nodes=5, min_samples_leaf=2)\n"
     ]
    }
   ],
   "source": [
    "print(f'The best model is: \\n{gs_dt.best_estimator_}')"
   ]
  },
  {
   "cell_type": "code",
   "execution_count": 19,
   "metadata": {},
   "outputs": [
    {
     "name": "stdout",
     "output_type": "stream",
     "text": [
      "Decision tree has 9 nodes with maximum depth 4.\n",
      "Model Accuracy: 1.0\n"
     ]
    }
   ],
   "source": [
    "tree_opt = gs_dt.best_estimator_\n",
    "print(f'Decision tree has {tree_opt.tree_.node_count} nodes with maximum depth {tree_opt.tree_.max_depth}.') \n",
    "print(f'Model Accuracy: {tree_opt.score(X_train, y_train)}')"
   ]
  },
  {
   "cell_type": "code",
   "execution_count": 20,
   "metadata": {},
   "outputs": [
    {
     "data": {
      "text/plain": [
       "DecisionTreeClassifier(max_depth=4, max_leaf_nodes=5, min_samples_leaf=2)"
      ]
     },
     "execution_count": 20,
     "metadata": {},
     "output_type": "execute_result"
    }
   ],
   "source": [
    "gs_dt.best_estimator_"
   ]
  },
  {
   "cell_type": "code",
   "execution_count": 21,
   "metadata": {},
   "outputs": [
    {
     "data": {
      "text/plain": [
       "0.9694736842105263"
      ]
     },
     "execution_count": 21,
     "metadata": {},
     "output_type": "execute_result"
    }
   ],
   "source": [
    "gs_dt.best_score_"
   ]
  },
  {
   "cell_type": "code",
   "execution_count": 22,
   "metadata": {},
   "outputs": [
    {
     "name": "stdout",
     "output_type": "stream",
     "text": [
      "                       precision    recall  f1-score   support\n",
      "\n",
      "           ependymoma       1.00      0.86      0.92        14\n",
      "         glioblastoma       0.73      1.00      0.84         8\n",
      "      medulloblastoma       1.00      0.86      0.92         7\n",
      "               normal       0.00      0.00      0.00         1\n",
      "pilocytic_astrocytoma       0.67      0.67      0.67         3\n",
      "\n",
      "             accuracy                           0.85        33\n",
      "            macro avg       0.68      0.68      0.67        33\n",
      "         weighted avg       0.87      0.85      0.85        33\n",
      "\n"
     ]
    }
   ],
   "source": [
    "y_pred = tree_opt.predict(X_test) \n",
    "print(classification_report(y_test,y_pred))"
   ]
  },
  {
   "cell_type": "raw",
   "metadata": {},
   "source": [
    "In the above optimization and before optimization of data when compare optimiation of decision tree accuracy score is 88% and befor optimization of decision tree accuracy socore is 88% so both are peforming same.we can say that the both performing of models is good."
   ]
  },
  {
   "cell_type": "markdown",
   "metadata": {},
   "source": [
    "# Random Forest Regressor"
   ]
  },
  {
   "cell_type": "code",
   "execution_count": 37,
   "metadata": {},
   "outputs": [
    {
     "data": {
      "text/html": [
       "<div>\n",
       "<style scoped>\n",
       "    .dataframe tbody tr th:only-of-type {\n",
       "        vertical-align: middle;\n",
       "    }\n",
       "\n",
       "    .dataframe tbody tr th {\n",
       "        vertical-align: top;\n",
       "    }\n",
       "\n",
       "    .dataframe thead th {\n",
       "        text-align: right;\n",
       "    }\n",
       "</style>\n",
       "<table border=\"1\" class=\"dataframe\">\n",
       "  <thead>\n",
       "    <tr style=\"text-align: right;\">\n",
       "      <th></th>\n",
       "      <th>samples</th>\n",
       "      <th>type</th>\n",
       "      <th>1007_s_at</th>\n",
       "      <th>1053_at</th>\n",
       "      <th>117_at</th>\n",
       "      <th>121_at</th>\n",
       "      <th>1255_g_at</th>\n",
       "      <th>1294_at</th>\n",
       "      <th>1316_at</th>\n",
       "      <th>1320_at</th>\n",
       "      <th>...</th>\n",
       "      <th>AFFX-r2-Ec-bioD-3_at</th>\n",
       "      <th>AFFX-r2-Ec-bioD-5_at</th>\n",
       "      <th>AFFX-r2-P1-cre-3_at</th>\n",
       "      <th>AFFX-r2-P1-cre-5_at</th>\n",
       "      <th>AFFX-ThrX-3_at</th>\n",
       "      <th>AFFX-ThrX-5_at</th>\n",
       "      <th>AFFX-ThrX-M_at</th>\n",
       "      <th>AFFX-TrpnX-3_at</th>\n",
       "      <th>AFFX-TrpnX-5_at</th>\n",
       "      <th>AFFX-TrpnX-M_at</th>\n",
       "    </tr>\n",
       "  </thead>\n",
       "  <tbody>\n",
       "    <tr>\n",
       "      <th>0</th>\n",
       "      <td>834</td>\n",
       "      <td>ependymoma</td>\n",
       "      <td>12.498150</td>\n",
       "      <td>7.604868</td>\n",
       "      <td>6.880934</td>\n",
       "      <td>9.027128</td>\n",
       "      <td>4.176175</td>\n",
       "      <td>7.224920</td>\n",
       "      <td>6.085942</td>\n",
       "      <td>6.835999</td>\n",
       "      <td>...</td>\n",
       "      <td>9.979005</td>\n",
       "      <td>9.926470</td>\n",
       "      <td>12.719785</td>\n",
       "      <td>12.777792</td>\n",
       "      <td>5.403657</td>\n",
       "      <td>4.870548</td>\n",
       "      <td>4.047380</td>\n",
       "      <td>3.721936</td>\n",
       "      <td>4.516434</td>\n",
       "      <td>4.749940</td>\n",
       "    </tr>\n",
       "    <tr>\n",
       "      <th>1</th>\n",
       "      <td>835</td>\n",
       "      <td>ependymoma</td>\n",
       "      <td>13.067436</td>\n",
       "      <td>7.998090</td>\n",
       "      <td>7.209076</td>\n",
       "      <td>9.723322</td>\n",
       "      <td>4.826126</td>\n",
       "      <td>7.539381</td>\n",
       "      <td>6.250962</td>\n",
       "      <td>8.012549</td>\n",
       "      <td>...</td>\n",
       "      <td>11.924749</td>\n",
       "      <td>11.215930</td>\n",
       "      <td>13.605662</td>\n",
       "      <td>13.401342</td>\n",
       "      <td>5.224555</td>\n",
       "      <td>4.895315</td>\n",
       "      <td>3.786437</td>\n",
       "      <td>3.564481</td>\n",
       "      <td>4.430891</td>\n",
       "      <td>4.491416</td>\n",
       "    </tr>\n",
       "    <tr>\n",
       "      <th>2</th>\n",
       "      <td>836</td>\n",
       "      <td>ependymoma</td>\n",
       "      <td>13.068179</td>\n",
       "      <td>8.573674</td>\n",
       "      <td>8.647684</td>\n",
       "      <td>9.613002</td>\n",
       "      <td>4.396581</td>\n",
       "      <td>7.813101</td>\n",
       "      <td>6.007746</td>\n",
       "      <td>7.178156</td>\n",
       "      <td>...</td>\n",
       "      <td>12.154405</td>\n",
       "      <td>11.532460</td>\n",
       "      <td>13.764593</td>\n",
       "      <td>13.477800</td>\n",
       "      <td>5.303565</td>\n",
       "      <td>5.052184</td>\n",
       "      <td>4.005343</td>\n",
       "      <td>3.595382</td>\n",
       "      <td>4.563494</td>\n",
       "      <td>4.668827</td>\n",
       "    </tr>\n",
       "    <tr>\n",
       "      <th>3</th>\n",
       "      <td>837</td>\n",
       "      <td>ependymoma</td>\n",
       "      <td>12.456040</td>\n",
       "      <td>9.098977</td>\n",
       "      <td>6.628784</td>\n",
       "      <td>8.517677</td>\n",
       "      <td>4.154847</td>\n",
       "      <td>8.361843</td>\n",
       "      <td>6.596064</td>\n",
       "      <td>6.347285</td>\n",
       "      <td>...</td>\n",
       "      <td>11.969072</td>\n",
       "      <td>11.288801</td>\n",
       "      <td>13.600828</td>\n",
       "      <td>13.379029</td>\n",
       "      <td>4.953429</td>\n",
       "      <td>4.708371</td>\n",
       "      <td>3.892318</td>\n",
       "      <td>3.759429</td>\n",
       "      <td>4.748381</td>\n",
       "      <td>4.521275</td>\n",
       "    </tr>\n",
       "    <tr>\n",
       "      <th>4</th>\n",
       "      <td>838</td>\n",
       "      <td>ependymoma</td>\n",
       "      <td>12.699958</td>\n",
       "      <td>8.800721</td>\n",
       "      <td>11.556188</td>\n",
       "      <td>9.166309</td>\n",
       "      <td>4.165891</td>\n",
       "      <td>7.923826</td>\n",
       "      <td>6.212754</td>\n",
       "      <td>6.866387</td>\n",
       "      <td>...</td>\n",
       "      <td>11.411701</td>\n",
       "      <td>11.169317</td>\n",
       "      <td>13.751442</td>\n",
       "      <td>13.803646</td>\n",
       "      <td>4.892677</td>\n",
       "      <td>4.773806</td>\n",
       "      <td>3.796856</td>\n",
       "      <td>3.577544</td>\n",
       "      <td>4.504385</td>\n",
       "      <td>4.541450</td>\n",
       "    </tr>\n",
       "  </tbody>\n",
       "</table>\n",
       "<p>5 rows × 54677 columns</p>\n",
       "</div>"
      ],
      "text/plain": [
       "   samples        type  1007_s_at   1053_at     117_at    121_at  1255_g_at  \\\n",
       "0      834  ependymoma  12.498150  7.604868   6.880934  9.027128   4.176175   \n",
       "1      835  ependymoma  13.067436  7.998090   7.209076  9.723322   4.826126   \n",
       "2      836  ependymoma  13.068179  8.573674   8.647684  9.613002   4.396581   \n",
       "3      837  ependymoma  12.456040  9.098977   6.628784  8.517677   4.154847   \n",
       "4      838  ependymoma  12.699958  8.800721  11.556188  9.166309   4.165891   \n",
       "\n",
       "    1294_at   1316_at   1320_at  ...  AFFX-r2-Ec-bioD-3_at  \\\n",
       "0  7.224920  6.085942  6.835999  ...              9.979005   \n",
       "1  7.539381  6.250962  8.012549  ...             11.924749   \n",
       "2  7.813101  6.007746  7.178156  ...             12.154405   \n",
       "3  8.361843  6.596064  6.347285  ...             11.969072   \n",
       "4  7.923826  6.212754  6.866387  ...             11.411701   \n",
       "\n",
       "   AFFX-r2-Ec-bioD-5_at  AFFX-r2-P1-cre-3_at  AFFX-r2-P1-cre-5_at  \\\n",
       "0              9.926470            12.719785            12.777792   \n",
       "1             11.215930            13.605662            13.401342   \n",
       "2             11.532460            13.764593            13.477800   \n",
       "3             11.288801            13.600828            13.379029   \n",
       "4             11.169317            13.751442            13.803646   \n",
       "\n",
       "   AFFX-ThrX-3_at  AFFX-ThrX-5_at  AFFX-ThrX-M_at  AFFX-TrpnX-3_at  \\\n",
       "0        5.403657        4.870548        4.047380         3.721936   \n",
       "1        5.224555        4.895315        3.786437         3.564481   \n",
       "2        5.303565        5.052184        4.005343         3.595382   \n",
       "3        4.953429        4.708371        3.892318         3.759429   \n",
       "4        4.892677        4.773806        3.796856         3.577544   \n",
       "\n",
       "   AFFX-TrpnX-5_at  AFFX-TrpnX-M_at  \n",
       "0         4.516434         4.749940  \n",
       "1         4.430891         4.491416  \n",
       "2         4.563494         4.668827  \n",
       "3         4.748381         4.521275  \n",
       "4         4.504385         4.541450  \n",
       "\n",
       "[5 rows x 54677 columns]"
      ]
     },
     "execution_count": 37,
     "metadata": {},
     "output_type": "execute_result"
    }
   ],
   "source": [
    "data=pd.read_csv('Brain_GSE50161.csv')\n",
    "data.head(5)\n",
    "\n"
   ]
  },
  {
   "cell_type": "code",
   "execution_count": 42,
   "metadata": {},
   "outputs": [
    {
     "name": "stdout",
     "output_type": "stream",
     "text": [
      "(91, 54676)\n",
      "(91,)\n",
      "(39, 54676)\n",
      "(39,)\n"
     ]
    }
   ],
   "source": [
    "#Separating independant variable and dependent variable\n",
    "##Feature and label determination\n",
    "X=data.drop(['type'],axis=1)\n",
    "y=data['type']\n",
    "#Scaling X data\n",
    "from sklearn.model_selection import train_test_split\n",
    "# Splitting the dataset to Train and test\n",
    "X_train, X_test, y_train, y_test = train_test_split(X, y, test_size=0.3, random_state=0)\n",
    "\n",
    "#to know the shape of the train and test dataset.\n",
    "print(X_train.shape)\n",
    "print(y_train.shape)\n",
    "print(X_test.shape)\n",
    "print(y_test.shape)\n",
    "\n",
    "scaler = StandardScaler()\n",
    "scaler.fit(X_train)\n",
    "X_train = scaler.transform(X_train)\n",
    "X_test = scaler.transform(X_test)\n"
   ]
  },
  {
   "cell_type": "code",
   "execution_count": 45,
   "metadata": {},
   "outputs": [
    {
     "data": {
      "text/plain": [
       "0.9487179487179487"
      ]
     },
     "execution_count": 45,
     "metadata": {},
     "output_type": "execute_result"
    }
   ],
   "source": [
    "from sklearn import ensemble\n",
    "rvc=ensemble.RandomForestClassifier(n_estimators=100)\n",
    "\n",
    "\n",
    "rvc.fit(X_train,y_train)\n",
    "\n",
    "rvc.score(X_test,y_test)\n"
   ]
  },
  {
   "cell_type": "markdown",
   "metadata": {},
   "source": [
    "Logistic Regression analyses"
   ]
  },
  {
   "cell_type": "code",
   "execution_count": 47,
   "metadata": {},
   "outputs": [
    {
     "name": "stderr",
     "output_type": "stream",
     "text": [
      "C:\\Users\\pushp\\anaconda3\\lib\\site-packages\\sklearn\\linear_model\\_logistic.py:762: ConvergenceWarning: lbfgs failed to converge (status=1):\n",
      "STOP: TOTAL NO. of ITERATIONS REACHED LIMIT.\n",
      "\n",
      "Increase the number of iterations (max_iter) or scale the data as shown in:\n",
      "    https://scikit-learn.org/stable/modules/preprocessing.html\n",
      "Please also refer to the documentation for alternative solver options:\n",
      "    https://scikit-learn.org/stable/modules/linear_model.html#logistic-regression\n",
      "  n_iter_i = _check_optimize_result(\n"
     ]
    },
    {
     "data": {
      "text/plain": [
       "1.0"
      ]
     },
     "execution_count": 47,
     "metadata": {},
     "output_type": "execute_result"
    }
   ],
   "source": [
    "LGR=LogisticRegression()\n",
    "LGR.fit(X_train,y_train)\n",
    "LGR.score(X_test,y_test)"
   ]
  },
  {
   "cell_type": "code",
   "execution_count": 48,
   "metadata": {},
   "outputs": [
    {
     "name": "stdout",
     "output_type": "stream",
     "text": [
      "                       precision    recall  f1-score   support\n",
      "\n",
      "           ependymoma       1.00      1.00      1.00        15\n",
      "         glioblastoma       1.00      1.00      1.00        12\n",
      "      medulloblastoma       1.00      1.00      1.00         6\n",
      "               normal       1.00      1.00      1.00         2\n",
      "pilocytic_astrocytoma       1.00      1.00      1.00         4\n",
      "\n",
      "             accuracy                           1.00        39\n",
      "            macro avg       1.00      1.00      1.00        39\n",
      "         weighted avg       1.00      1.00      1.00        39\n",
      "\n"
     ]
    }
   ],
   "source": [
    "y_pred = LGR.predict(X_test) \n",
    "print(classification_report(y_test,y_pred))"
   ]
  },
  {
   "cell_type": "markdown",
   "metadata": {},
   "source": [
    "In the above RandomForest regressor is 94% and logistic regression is 1 g  both accuracy score was good.when comparing Logistic regeression classifier better than to random forest regressior.so we can say that LogisticRegession classiier is good perfomance model."
   ]
  },
  {
   "cell_type": "markdown",
   "metadata": {},
   "source": [
    "# Support vector machine"
   ]
  },
  {
   "cell_type": "code",
   "execution_count": 24,
   "metadata": {},
   "outputs": [
    {
     "data": {
      "text/html": [
       "<div>\n",
       "<style scoped>\n",
       "    .dataframe tbody tr th:only-of-type {\n",
       "        vertical-align: middle;\n",
       "    }\n",
       "\n",
       "    .dataframe tbody tr th {\n",
       "        vertical-align: top;\n",
       "    }\n",
       "\n",
       "    .dataframe thead th {\n",
       "        text-align: right;\n",
       "    }\n",
       "</style>\n",
       "<table border=\"1\" class=\"dataframe\">\n",
       "  <thead>\n",
       "    <tr style=\"text-align: right;\">\n",
       "      <th></th>\n",
       "      <th>samples</th>\n",
       "      <th>type</th>\n",
       "      <th>1007_s_at</th>\n",
       "      <th>1053_at</th>\n",
       "      <th>117_at</th>\n",
       "      <th>121_at</th>\n",
       "      <th>1255_g_at</th>\n",
       "      <th>1294_at</th>\n",
       "      <th>1316_at</th>\n",
       "      <th>1320_at</th>\n",
       "      <th>...</th>\n",
       "      <th>AFFX-r2-Ec-bioD-3_at</th>\n",
       "      <th>AFFX-r2-Ec-bioD-5_at</th>\n",
       "      <th>AFFX-r2-P1-cre-3_at</th>\n",
       "      <th>AFFX-r2-P1-cre-5_at</th>\n",
       "      <th>AFFX-ThrX-3_at</th>\n",
       "      <th>AFFX-ThrX-5_at</th>\n",
       "      <th>AFFX-ThrX-M_at</th>\n",
       "      <th>AFFX-TrpnX-3_at</th>\n",
       "      <th>AFFX-TrpnX-5_at</th>\n",
       "      <th>AFFX-TrpnX-M_at</th>\n",
       "    </tr>\n",
       "  </thead>\n",
       "  <tbody>\n",
       "    <tr>\n",
       "      <th>0</th>\n",
       "      <td>834</td>\n",
       "      <td>ependymoma</td>\n",
       "      <td>12.498150</td>\n",
       "      <td>7.604868</td>\n",
       "      <td>6.880934</td>\n",
       "      <td>9.027128</td>\n",
       "      <td>4.176175</td>\n",
       "      <td>7.224920</td>\n",
       "      <td>6.085942</td>\n",
       "      <td>6.835999</td>\n",
       "      <td>...</td>\n",
       "      <td>9.979005</td>\n",
       "      <td>9.926470</td>\n",
       "      <td>12.719785</td>\n",
       "      <td>12.777792</td>\n",
       "      <td>5.403657</td>\n",
       "      <td>4.870548</td>\n",
       "      <td>4.047380</td>\n",
       "      <td>3.721936</td>\n",
       "      <td>4.516434</td>\n",
       "      <td>4.749940</td>\n",
       "    </tr>\n",
       "    <tr>\n",
       "      <th>1</th>\n",
       "      <td>835</td>\n",
       "      <td>ependymoma</td>\n",
       "      <td>13.067436</td>\n",
       "      <td>7.998090</td>\n",
       "      <td>7.209076</td>\n",
       "      <td>9.723322</td>\n",
       "      <td>4.826126</td>\n",
       "      <td>7.539381</td>\n",
       "      <td>6.250962</td>\n",
       "      <td>8.012549</td>\n",
       "      <td>...</td>\n",
       "      <td>11.924749</td>\n",
       "      <td>11.215930</td>\n",
       "      <td>13.605662</td>\n",
       "      <td>13.401342</td>\n",
       "      <td>5.224555</td>\n",
       "      <td>4.895315</td>\n",
       "      <td>3.786437</td>\n",
       "      <td>3.564481</td>\n",
       "      <td>4.430891</td>\n",
       "      <td>4.491416</td>\n",
       "    </tr>\n",
       "    <tr>\n",
       "      <th>2</th>\n",
       "      <td>836</td>\n",
       "      <td>ependymoma</td>\n",
       "      <td>13.068179</td>\n",
       "      <td>8.573674</td>\n",
       "      <td>8.647684</td>\n",
       "      <td>9.613002</td>\n",
       "      <td>4.396581</td>\n",
       "      <td>7.813101</td>\n",
       "      <td>6.007746</td>\n",
       "      <td>7.178156</td>\n",
       "      <td>...</td>\n",
       "      <td>12.154405</td>\n",
       "      <td>11.532460</td>\n",
       "      <td>13.764593</td>\n",
       "      <td>13.477800</td>\n",
       "      <td>5.303565</td>\n",
       "      <td>5.052184</td>\n",
       "      <td>4.005343</td>\n",
       "      <td>3.595382</td>\n",
       "      <td>4.563494</td>\n",
       "      <td>4.668827</td>\n",
       "    </tr>\n",
       "    <tr>\n",
       "      <th>3</th>\n",
       "      <td>837</td>\n",
       "      <td>ependymoma</td>\n",
       "      <td>12.456040</td>\n",
       "      <td>9.098977</td>\n",
       "      <td>6.628784</td>\n",
       "      <td>8.517677</td>\n",
       "      <td>4.154847</td>\n",
       "      <td>8.361843</td>\n",
       "      <td>6.596064</td>\n",
       "      <td>6.347285</td>\n",
       "      <td>...</td>\n",
       "      <td>11.969072</td>\n",
       "      <td>11.288801</td>\n",
       "      <td>13.600828</td>\n",
       "      <td>13.379029</td>\n",
       "      <td>4.953429</td>\n",
       "      <td>4.708371</td>\n",
       "      <td>3.892318</td>\n",
       "      <td>3.759429</td>\n",
       "      <td>4.748381</td>\n",
       "      <td>4.521275</td>\n",
       "    </tr>\n",
       "  </tbody>\n",
       "</table>\n",
       "<p>4 rows × 54677 columns</p>\n",
       "</div>"
      ],
      "text/plain": [
       "   samples        type  1007_s_at   1053_at    117_at    121_at  1255_g_at  \\\n",
       "0      834  ependymoma  12.498150  7.604868  6.880934  9.027128   4.176175   \n",
       "1      835  ependymoma  13.067436  7.998090  7.209076  9.723322   4.826126   \n",
       "2      836  ependymoma  13.068179  8.573674  8.647684  9.613002   4.396581   \n",
       "3      837  ependymoma  12.456040  9.098977  6.628784  8.517677   4.154847   \n",
       "\n",
       "    1294_at   1316_at   1320_at  ...  AFFX-r2-Ec-bioD-3_at  \\\n",
       "0  7.224920  6.085942  6.835999  ...              9.979005   \n",
       "1  7.539381  6.250962  8.012549  ...             11.924749   \n",
       "2  7.813101  6.007746  7.178156  ...             12.154405   \n",
       "3  8.361843  6.596064  6.347285  ...             11.969072   \n",
       "\n",
       "   AFFX-r2-Ec-bioD-5_at  AFFX-r2-P1-cre-3_at  AFFX-r2-P1-cre-5_at  \\\n",
       "0              9.926470            12.719785            12.777792   \n",
       "1             11.215930            13.605662            13.401342   \n",
       "2             11.532460            13.764593            13.477800   \n",
       "3             11.288801            13.600828            13.379029   \n",
       "\n",
       "   AFFX-ThrX-3_at  AFFX-ThrX-5_at  AFFX-ThrX-M_at  AFFX-TrpnX-3_at  \\\n",
       "0        5.403657        4.870548        4.047380         3.721936   \n",
       "1        5.224555        4.895315        3.786437         3.564481   \n",
       "2        5.303565        5.052184        4.005343         3.595382   \n",
       "3        4.953429        4.708371        3.892318         3.759429   \n",
       "\n",
       "   AFFX-TrpnX-5_at  AFFX-TrpnX-M_at  \n",
       "0         4.516434         4.749940  \n",
       "1         4.430891         4.491416  \n",
       "2         4.563494         4.668827  \n",
       "3         4.748381         4.521275  \n",
       "\n",
       "[4 rows x 54677 columns]"
      ]
     },
     "execution_count": 24,
     "metadata": {},
     "output_type": "execute_result"
    }
   ],
   "source": [
    "data=pd.read_csv('Brain_GSE50161.csv')\n",
    "data.head(4)"
   ]
  },
  {
   "cell_type": "code",
   "execution_count": 25,
   "metadata": {},
   "outputs": [
    {
     "name": "stdout",
     "output_type": "stream",
     "text": [
      "(130, 54676)\n",
      "(130,)\n"
     ]
    }
   ],
   "source": [
    "#Separating independant variable and dependent variable\n",
    "##Feature and label determination\n",
    "X=data.drop(['type'],axis=1)\n",
    "y=data['type']\n",
    "print(X.shape)\n",
    "print(y.shape)"
   ]
  },
  {
   "cell_type": "code",
   "execution_count": 26,
   "metadata": {},
   "outputs": [
    {
     "name": "stdout",
     "output_type": "stream",
     "text": [
      "(91, 54676)\n",
      "(91,)\n",
      "(39, 54676)\n",
      "(39,)\n"
     ]
    }
   ],
   "source": [
    "#Scaling X data\n",
    "from sklearn.model_selection import train_test_split\n",
    "# Splitting the dataset to Train and test\n",
    "X_train, X_test, y_train, y_test = train_test_split(X, y, test_size=0.3, random_state=0)\n",
    "\n",
    "#to know the shape of the train and test dataset.\n",
    "print(X_train.shape)\n",
    "print(y_train.shape)\n",
    "print(X_test.shape)\n",
    "print(y_test.shape)\n",
    "\n",
    "scaler = StandardScaler()\n",
    "scaler.fit(X_train)\n",
    "X_train = scaler.transform(X_train)\n",
    "X_test = scaler.transform(X_test)\n"
   ]
  },
  {
   "cell_type": "code",
   "execution_count": 27,
   "metadata": {},
   "outputs": [],
   "source": [
    "from sklearn import svm\n",
    "\n",
    "clf = svm.SVC()\n",
    "\n",
    "clf.fit(X_train,y_train)\n",
    "\n",
    "predicted_labels = clf.predict(X_test)\n",
    "\n",
    "from sklearn.metrics import confusion_matrix\n",
    "\n",
    "\n",
    "def print_cm(cm, labels, hide_zeroes=False, hide_diagonal=False, hide_threshold=None):\n",
    "    \"\"\"pretty print for confusion matrixes\"\"\"\n",
    "    columnwidth = max([len(x) for x in labels]+[5]) # 5 is value length\n",
    "    empty_cell = \" \" * columnwidth\n",
    "    # Print header\n",
    "    print (\"    \" + empty_cell,)\n",
    "    for label in labels:\n",
    "        print (\"%{0}s\".format(columnwidth) % label,)\n",
    "    print\n",
    "    # Print rows\n",
    "    for i, label1 in enumerate(labels):\n",
    "        print (\"    %{0}s\".format(columnwidth) % label1,)\n",
    "        for j in range(len(labels)):\n",
    "            cell = \"%{0}.1f\".format(columnwidth) % cm[i, j]\n",
    "            if hide_zeroes:\n",
    "                cell = cell if float(cm[i, j]) != 0 else empty_cell\n",
    "            if hide_diagonal:\n",
    "                cell = cell if i != j else empty_cell\n",
    "            if hide_threshold:\n",
    "                cell = cell if cm[i, j] > hide_threshold else empty_cell\n",
    "            print (cell,)\n",
    "        print\n",
    "\n",
    "conf = confusion_matrix(y_test, predicted_labels)"
   ]
  },
  {
   "cell_type": "code",
   "execution_count": 28,
   "metadata": {},
   "outputs": [
    {
     "name": "stdout",
     "output_type": "stream",
     "text": [
      "FP classification accuracy = 0.871795\n"
     ]
    }
   ],
   "source": [
    "def accuracy(conf):\n",
    "    total_correct = 0.\n",
    "    nb_classes = conf.shape[0]\n",
    "    for i in np.arange(0,nb_classes):\n",
    "        total_correct += conf[i][i]\n",
    "    acc = total_correct/sum(sum(conf))\n",
    "    return acc\n",
    "\n",
    "print('FP classification accuracy = %f' % accuracy(conf))"
   ]
  },
  {
   "cell_type": "code",
   "execution_count": 29,
   "metadata": {},
   "outputs": [
    {
     "name": "stdout",
     "output_type": "stream",
     "text": [
      "Accuracy: 0.8717948717948718\n",
      "F1 score: 0.8341290893015031\n",
      "Recall: 0.8717948717948718\n",
      "Precision: 0.8582202111613876\n",
      "\n",
      " clasification report:\n",
      "                        precision    recall  f1-score   support\n",
      "\n",
      "           ependymoma       1.00      1.00      1.00        15\n",
      "         glioblastoma       0.71      1.00      0.83        12\n",
      "      medulloblastoma       1.00      1.00      1.00         6\n",
      "               normal       0.00      0.00      0.00         2\n",
      "pilocytic_astrocytoma       1.00      0.25      0.40         4\n",
      "\n",
      "             accuracy                           0.87        39\n",
      "            macro avg       0.74      0.65      0.65        39\n",
      "         weighted avg       0.86      0.87      0.83        39\n",
      "\n",
      "\n",
      " confussion matrix:\n",
      " [[15  0  0  0  0]\n",
      " [ 0 12  0  0  0]\n",
      " [ 0  0  6  0  0]\n",
      " [ 0  2  0  0  0]\n",
      " [ 0  3  0  0  1]]\n"
     ]
    },
    {
     "name": "stderr",
     "output_type": "stream",
     "text": [
      "C:\\Users\\pushp\\anaconda3\\lib\\site-packages\\sklearn\\metrics\\_classification.py:1221: UndefinedMetricWarning: Precision is ill-defined and being set to 0.0 in labels with no predicted samples. Use `zero_division` parameter to control this behavior.\n",
      "  _warn_prf(average, modifier, msg_start, len(result))\n",
      "C:\\Users\\pushp\\anaconda3\\lib\\site-packages\\sklearn\\metrics\\_classification.py:1221: UndefinedMetricWarning: Precision and F-score are ill-defined and being set to 0.0 in labels with no predicted samples. Use `zero_division` parameter to control this behavior.\n",
      "  _warn_prf(average, modifier, msg_start, len(result))\n"
     ]
    }
   ],
   "source": [
    "from sklearn.metrics import accuracy_score\n",
    "from sklearn.metrics import f1_score\n",
    "from sklearn.metrics import recall_score\n",
    "from sklearn.metrics import precision_score\n",
    "from sklearn.metrics import classification_report\n",
    "print ('Accuracy:', accuracy_score(y_test, predicted_labels))\n",
    "print ('F1 score:', f1_score(y_test, predicted_labels,average='weighted'))\n",
    "print ('Recall:', recall_score(y_test, predicted_labels,\n",
    "                              average='weighted'))\n",
    "print ('Precision:', precision_score(y_test, predicted_labels,\n",
    "                                    average='weighted'))\n",
    "print ('\\n clasification report:\\n', classification_report(y_test, predicted_labels))\n",
    "print ('\\n confussion matrix:\\n',confusion_matrix(y_test, predicted_labels))"
   ]
  },
  {
   "cell_type": "markdown",
   "metadata": {},
   "source": [
    "In the above support vector machine the classifiction of accuracy score is 87% in this algroithem its not good model.\n",
    "Lets apply mulilayer perception."
   ]
  },
  {
   "cell_type": "markdown",
   "metadata": {},
   "source": [
    "# Multilayer peception"
   ]
  },
  {
   "cell_type": "code",
   "execution_count": 31,
   "metadata": {},
   "outputs": [
    {
     "name": "stdout",
     "output_type": "stream",
     "text": [
      "(130, 54676)\n",
      "(130,)\n"
     ]
    }
   ],
   "source": [
    "#Separating independant variable and dependent variable\n",
    "##Feature and label determination\n",
    "X=data.drop(['type'],axis=1)\n",
    "y=data['type']\n",
    "print(X.shape)\n",
    "print(y.shape)"
   ]
  },
  {
   "cell_type": "code",
   "execution_count": 32,
   "metadata": {},
   "outputs": [],
   "source": [
    "from sklearn.model_selection import train_test_split\n",
    "# Splitting the dataset to Train and test\n",
    "X_train, X_test, y_train, y_test = train_test_split(X, y, test_size=0.3, random_state=0)\n",
    "num_pixels = X_train.shape"
   ]
  },
  {
   "cell_type": "code",
   "execution_count": 33,
   "metadata": {},
   "outputs": [
    {
     "name": "stderr",
     "output_type": "stream",
     "text": [
      "C:\\Users\\pushp\\anaconda3\\lib\\site-packages\\sklearn\\neural_network\\_multilayer_perceptron.py:471: ConvergenceWarning: lbfgs failed to converge (status=1):\n",
      "STOP: TOTAL NO. of ITERATIONS REACHED LIMIT.\n",
      "\n",
      "Increase the number of iterations (max_iter) or scale the data as shown in:\n",
      "    https://scikit-learn.org/stable/modules/preprocessing.html\n",
      "  self.n_iter_ = _check_optimize_result(\"lbfgs\", opt_res, self.max_iter)\n"
     ]
    },
    {
     "name": "stdout",
     "output_type": "stream",
     "text": [
      "Predicted accuracy: 94.872%\n",
      "Classification accuracy = 0.948718\n",
      "Accuracy: 0.9487179487179487\n",
      "F1 score: 0.9500499500499499\n",
      "Recall: 0.9487179487179487\n",
      "Precision: 0.9615384615384616\n",
      "\n",
      " clasification report:\n",
      "                        precision    recall  f1-score   support\n",
      "\n",
      "           ependymoma       1.00      1.00      1.00        15\n",
      "         glioblastoma       1.00      0.83      0.91        12\n",
      "      medulloblastoma       0.75      1.00      0.86         6\n",
      "               normal       1.00      1.00      1.00         2\n",
      "pilocytic_astrocytoma       1.00      1.00      1.00         4\n",
      "\n",
      "             accuracy                           0.95        39\n",
      "            macro avg       0.95      0.97      0.95        39\n",
      "         weighted avg       0.96      0.95      0.95        39\n",
      "\n",
      "\n",
      " confussion matrix:\n",
      " [[15  0  0  0  0]\n",
      " [ 0 10  2  0  0]\n",
      " [ 0  0  6  0  0]\n",
      " [ 0  0  0  2  0]\n",
      " [ 0  0  0  0  4]]\n"
     ]
    }
   ],
   "source": [
    "clf = MLPClassifier(solver='lbfgs', alpha=.1,\n",
    "                    hidden_layer_sizes=(100))\n",
    "clf.fit(X_train,y_train)\n",
    "conf_te = confusion_matrix(y_test, clf.predict(X_test))\n",
    "\n",
    "def accuracy(conf):\n",
    "    total_correct = 0.\n",
    "    nb_classes = conf.shape[0]\n",
    "    for i in np.arange(0,nb_classes):\n",
    "        total_correct += conf[i][i]\n",
    "    acc = total_correct/sum(sum(conf))\n",
    "    return acc\n",
    "\n",
    "print('Predicted accuracy: %.3f%%' % (100*accuracy(conf_te),))\n",
    "\n",
    "predicted_labels = clf.predict(X_test)\n",
    "\n",
    "def print_cm(cm, labels, hide_zeroes=False, hide_diagonal=False, hide_threshold=None):\n",
    "    \"\"\"pretty print for confusion matrixes\"\"\"\n",
    "    columnwidth = max([len(x) for x in labels]+[5]) # 5 is value length\n",
    "    empty_cell = \" \" * columnwidth\n",
    "    # Print header\n",
    "    print (\"    \" + empty_cell),\n",
    "    for label in labels:\n",
    "        print (\"%{0}s\".format(columnwidth) % label),\n",
    "    print\n",
    "    # Print rows\n",
    "    for i, label1 in enumerate(labels):\n",
    "        print (\"    %{0}s\".format(columnwidth) % label1),\n",
    "        for j in range(len(labels)):\n",
    "            cell = \"%{0}.1f\".format(columnwidth) % cm[i, j]\n",
    "            if hide_zeroes:\n",
    "                cell = cell if float(cm[i, j]) != 0 else empty_cell\n",
    "            if hide_diagonal:\n",
    "                cell = cell if i != j else empty_cell\n",
    "            if hide_threshold:\n",
    "                cell = cell if cm[i, j] > hide_threshold else empty_cell\n",
    "            print (cell),\n",
    "        print\n",
    "\n",
    "conf = confusion_matrix(y_test, predicted_labels)\n",
    "# then print it in a pretty way\n",
    "#print_cm(conf, patterns_labels)\n",
    "\n",
    "print('Classification accuracy = %f' % accuracy(conf))\n",
    "\n",
    "from sklearn.metrics import accuracy_score\n",
    "from sklearn.metrics import f1_score\n",
    "from sklearn.metrics import recall_score\n",
    "from sklearn.metrics import precision_score\n",
    "from sklearn.metrics import classification_report\n",
    "print ('Accuracy:', accuracy_score(y_test, predicted_labels))\n",
    "print ('F1 score:', f1_score(y_test, predicted_labels,average='weighted'))\n",
    "print ('Recall:', recall_score(y_test, predicted_labels,average='weighted'))\n",
    "print ('Precision:', precision_score(y_test, predicted_labels,average='weighted'))\n",
    "print ('\\n clasification report:\\n', classification_report(y_test, predicted_labels))\n",
    "print ('\\n confussion matrix:\\n',confusion_matrix(y_test, predicted_labels))"
   ]
  },
  {
   "cell_type": "markdown",
   "metadata": {},
   "source": [
    "In the  above unseen the data of multilayer peception classification of the accuacy scoe is 87% and when compae suppot vecto machine algoithem accuacy scoe is similat to same.In conculsion both algorithem accuacy scores are same looks like its not good perfomace."
   ]
  },
  {
   "cell_type": "code",
   "execution_count": null,
   "metadata": {},
   "outputs": [],
   "source": []
  }
 ],
 "metadata": {
  "kernelspec": {
   "display_name": "Python 3 (ipykernel)",
   "language": "python",
   "name": "python3"
  },
  "language_info": {
   "codemirror_mode": {
    "name": "ipython",
    "version": 3
   },
   "file_extension": ".py",
   "mimetype": "text/x-python",
   "name": "python",
   "nbconvert_exporter": "python",
   "pygments_lexer": "ipython3",
   "version": "3.9.13"
  }
 },
 "nbformat": 4,
 "nbformat_minor": 4
}
